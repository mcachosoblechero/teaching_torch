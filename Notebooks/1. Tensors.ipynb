{
 "cells": [
  {
   "cell_type": "markdown",
   "metadata": {},
   "source": [
    "# PyTorch - Tensors\n",
    "\n",
    "This notebook explores basic tensors from PyTorch, how they work and how to operate them. "
   ]
  },
  {
   "cell_type": "code",
   "execution_count": 2,
   "metadata": {},
   "outputs": [
    {
     "name": "stdout",
     "output_type": "stream",
     "text": [
      "2.2.2\n"
     ]
    }
   ],
   "source": [
    "import pandas as pd\n",
    "import torch\n",
    "print(torch.__version__)"
   ]
  },
  {
   "cell_type": "markdown",
   "metadata": {},
   "source": [
    "# What is a Tensor?\n",
    "Tensors are the fundamental build blocks of Machine Learning models in PyTorch. They are multidimensional arrays that can store data in various forms, such as scalars, vectors, matrices and high-dimensional arrays. Tensors enable efficient computation and are essential for performing mathematical operations and training models.\n",
    "\n",
    "In PyTorch, we use tensors to encode the inputs and outputs of a model, as well as the model’s parameters. Tensors are similar to NumPy’s ndarrays, except that tensors can run on GPUs or other hardware accelerators. \n",
    "\n",
    "For more information, check the PyTorch documentation [here](https://pytorch.org/tutorials/beginner/basics/tensorqs_tutorial.html)"
   ]
  },
  {
   "cell_type": "code",
   "execution_count": 27,
   "metadata": {},
   "outputs": [
    {
     "name": "stdout",
     "output_type": "stream",
     "text": [
      "<class 'torch.Tensor'>\n",
      "0\n",
      "torch.Size([])\n",
      "tensor(5)\n"
     ]
    }
   ],
   "source": [
    "# Scalar\n",
    "scalar_tensor = torch.tensor(5)\n",
    "print(type(scalar_tensor))\n",
    "print(scalar_tensor.ndim)\n",
    "print(scalar_tensor.shape)\n",
    "print(scalar_tensor)"
   ]
  },
  {
   "cell_type": "code",
   "execution_count": 28,
   "metadata": {},
   "outputs": [
    {
     "name": "stdout",
     "output_type": "stream",
     "text": [
      "<class 'torch.Tensor'>\n",
      "1\n",
      "torch.Size([4])\n",
      "tensor([1, 0, 0, 1])\n"
     ]
    }
   ],
   "source": [
    "# Vector\n",
    "vector_tensor = torch.tensor([1,0,0,1])\n",
    "print(type(vector_tensor))\n",
    "print(vector_tensor.ndim)\n",
    "print(vector_tensor.shape)\n",
    "print(vector_tensor)"
   ]
  },
  {
   "cell_type": "code",
   "execution_count": 29,
   "metadata": {},
   "outputs": [
    {
     "name": "stdout",
     "output_type": "stream",
     "text": [
      "<class 'torch.Tensor'>\n",
      "2\n",
      "torch.Size([2, 2])\n",
      "tensor([[1, 0],\n",
      "        [2, 3]])\n"
     ]
    }
   ],
   "source": [
    "# Array\n",
    "array_tensor = torch.tensor([[1, 0 ],[2,3]])\n",
    "print(type(array_tensor))\n",
    "print(array_tensor.ndim)\n",
    "print(array_tensor.shape)\n",
    "print(array_tensor)"
   ]
  },
  {
   "cell_type": "code",
   "execution_count": 37,
   "metadata": {},
   "outputs": [
    {
     "name": "stdout",
     "output_type": "stream",
     "text": [
      "<class 'torch.Tensor'>\n",
      "3\n",
      "torch.Size([4, 2, 2])\n",
      "tensor([[[0.1265, 0.8462],\n",
      "         [0.5871, 0.0689]],\n",
      "\n",
      "        [[0.3306, 0.2863],\n",
      "         [0.9366, 0.6082]],\n",
      "\n",
      "        [[0.5020, 0.7314],\n",
      "         [0.8382, 0.7442]],\n",
      "\n",
      "        [[0.6034, 0.5857],\n",
      "         [0.3422, 0.9183]]])\n"
     ]
    }
   ],
   "source": [
    "# Generate random Tensor\n",
    "random_tensor = torch.rand((4, 2, 2)) # 4 Rows, 2 Columns, 2 Matrices\n",
    "print(type(random_tensor))\n",
    "print(random_tensor.ndim)\n",
    "print(random_tensor.shape)\n",
    "print(random_tensor)"
   ]
  },
  {
   "cell_type": "code",
   "execution_count": 43,
   "metadata": {},
   "outputs": [
    {
     "name": "stdout",
     "output_type": "stream",
     "text": [
      "tensor([[[1., 1.],\n",
      "         [1., 1.]],\n",
      "\n",
      "        [[1., 1.],\n",
      "         [1., 1.]],\n",
      "\n",
      "        [[1., 1.],\n",
      "         [1., 1.]],\n",
      "\n",
      "        [[1., 1.],\n",
      "         [1., 1.]]])\n",
      "tensor([[[0., 0.],\n",
      "         [0., 0.]],\n",
      "\n",
      "        [[0., 0.],\n",
      "         [0., 0.]],\n",
      "\n",
      "        [[0., 0.],\n",
      "         [0., 0.]],\n",
      "\n",
      "        [[0., 0.],\n",
      "         [0., 0.]]])\n"
     ]
    }
   ],
   "source": [
    "# Generate a Tensor of ones or zeros\n",
    "ones_tensor = torch.ones((4,2,2))\n",
    "print(ones_tensor)\n",
    "zeros_tensor = torch.zeros((4,2,2))\n",
    "print(zeros_tensor)"
   ]
  },
  {
   "cell_type": "markdown",
   "metadata": {},
   "source": [
    "# Tensors Operations\n",
    "\n",
    "Like any NumPy array, Tensors can be applied to multiple operations. Here, we will cover the basics:\n",
    "- Resizing\n",
    "- Casting\n",
    "- Matrix Multiplications\n",
    "All these operations are based on NumPy operations.\n",
    "\n",
    "Note that all Tensors need to be inside the same device (CPU or GPU) in order to be operated together. "
   ]
  },
  {
   "cell_type": "code",
   "execution_count": 38,
   "metadata": {},
   "outputs": [
    {
     "data": {
      "text/plain": [
       "tensor([[[0.1265, 0.8462, 0.5871, 0.0689],\n",
       "         [0.3306, 0.2863, 0.9366, 0.6082]],\n",
       "\n",
       "        [[0.5020, 0.7314, 0.8382, 0.7442],\n",
       "         [0.6034, 0.5857, 0.3422, 0.9183]]])"
      ]
     },
     "execution_count": 38,
     "metadata": {},
     "output_type": "execute_result"
    }
   ],
   "source": [
    "# Resizing\n",
    "random_tensor.view(2, 2, 4)"
   ]
  },
  {
   "cell_type": "code",
   "execution_count": 49,
   "metadata": {},
   "outputs": [
    {
     "data": {
      "text/plain": [
       "tensor([2.5000, 5.3008, 2.5996], dtype=torch.float16)"
      ]
     },
     "execution_count": 49,
     "metadata": {},
     "output_type": "execute_result"
    }
   ],
   "source": [
    "# Casting\n",
    "# On definition\n",
    "float_tensor = torch.tensor([2.5, 5.3, 2.6], dtype=torch.float16)\n",
    "float_tensor"
   ]
  },
  {
   "cell_type": "code",
   "execution_count": 50,
   "metadata": {},
   "outputs": [
    {
     "data": {
      "text/plain": [
       "tensor([2, 5, 2], dtype=torch.int8)"
      ]
     },
     "execution_count": 50,
     "metadata": {},
     "output_type": "execute_result"
    }
   ],
   "source": [
    "# After definition\n",
    "int_tensor = float_tensor.to(torch.int8)\n",
    "int_tensor"
   ]
  },
  {
   "cell_type": "code",
   "execution_count": 51,
   "metadata": {},
   "outputs": [
    {
     "data": {
      "text/plain": [
       "tensor([ 6.2500, 28.0938,  6.7578], dtype=torch.float16)"
      ]
     },
     "execution_count": 51,
     "metadata": {},
     "output_type": "execute_result"
    }
   ],
   "source": [
    "# Element-wise Product\n",
    "float_tensor * float_tensor"
   ]
  },
  {
   "cell_type": "code",
   "execution_count": 54,
   "metadata": {},
   "outputs": [
    {
     "data": {
      "text/plain": [
       "tensor(41.0938, dtype=torch.float16)"
      ]
     },
     "execution_count": 54,
     "metadata": {},
     "output_type": "execute_result"
    }
   ],
   "source": [
    "# Matrix Multiplications\n",
    "torch.matmul(float_tensor, float_tensor)"
   ]
  },
  {
   "cell_type": "markdown",
   "metadata": {},
   "source": []
  }
 ],
 "metadata": {
  "kernelspec": {
   "display_name": "pytorch",
   "language": "python",
   "name": "python3"
  },
  "language_info": {
   "codemirror_mode": {
    "name": "ipython",
    "version": 3
   },
   "file_extension": ".py",
   "mimetype": "text/x-python",
   "name": "python",
   "nbconvert_exporter": "python",
   "pygments_lexer": "ipython3",
   "version": "3.11.10"
  }
 },
 "nbformat": 4,
 "nbformat_minor": 2
}
