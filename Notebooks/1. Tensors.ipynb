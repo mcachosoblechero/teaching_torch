{
 "cells": [
  {
   "cell_type": "markdown",
   "metadata": {},
   "source": [
    "# PyTorch - Tensors\n",
    "\n",
    "This notebook explores basic tensors from PyTorch, how they work and how to operate them. "
   ]
  },
  {
   "cell_type": "code",
   "execution_count": 2,
   "metadata": {},
   "outputs": [
    {
     "name": "stdout",
     "output_type": "stream",
     "text": [
      "2.2.2\n"
     ]
    }
   ],
   "source": [
    "import pandas as pd\n",
    "import torch\n",
    "print(torch.__version__)"
   ]
  },
  {
   "cell_type": "markdown",
   "metadata": {},
   "source": [
    "# What is a Tensor?\n",
    "Tensors are the fundamental build blocks of Machine Learning models in PyTorch. They are multidimensional arrays that can store data in various forms, such as scalars, vectors, matrices and high-dimensional arrays. Tensors enable efficient computation and are essential for performing mathematical operations and training models.\n",
    "\n",
    "In PyTorch, we use tensors to encode the inputs and outputs of a model, as well as the model’s parameters. Tensors are similar to NumPy’s ndarrays, except that tensors can run on GPUs or other hardware accelerators.\n",
    "\n",
    "For more information, check the PyTorch documentation [here](https://pytorch.org/tutorials/beginner/basics/tensorqs_tutorial.html)"
   ]
  },
  {
   "cell_type": "code",
   "execution_count": 22,
   "metadata": {},
   "outputs": [
    {
     "name": "stdout",
     "output_type": "stream",
     "text": [
      "<class 'torch.Tensor'>\n",
      "0\n",
      "tensor(5)\n"
     ]
    }
   ],
   "source": [
    "# Scalar\n",
    "scalar_tensor = torch.tensor(5)\n",
    "print(type(scalar_tensor))\n",
    "print(scalar_tensor.ndim)\n",
    "print(scalar_tensor.shape)\n",
    "print(scalar_tensor)"
   ]
  },
  {
   "cell_type": "code",
   "execution_count": 23,
   "metadata": {},
   "outputs": [
    {
     "name": "stdout",
     "output_type": "stream",
     "text": [
      "<class 'torch.Tensor'>\n",
      "1\n",
      "tensor([1, 0, 0, 1])\n"
     ]
    }
   ],
   "source": [
    "# Vector\n",
    "vector_tensor = torch.tensor([1,0,0,1])\n",
    "print(type(vector_tensor))\n",
    "print(vector_tensor.ndim)\n",
    "print(vector_tensor.shape)\n",
    "print(vector_tensor)"
   ]
  },
  {
   "cell_type": "code",
   "execution_count": 25,
   "metadata": {},
   "outputs": [
    {
     "name": "stdout",
     "output_type": "stream",
     "text": [
      "<class 'torch.Tensor'>\n",
      "2\n",
      "torch.Size([2, 2])\n",
      "tensor([[1, 0],\n",
      "        [2, 3]])\n"
     ]
    }
   ],
   "source": [
    "# Array\n",
    "array_tensor = torch.tensor([[1, 0 ],[2,3]])\n",
    "print(type(array_tensor))\n",
    "print(array_tensor.ndim)\n",
    "print(array_tensor.shape)\n",
    "print(array_tensor)"
   ]
  }
 ],
 "metadata": {
  "kernelspec": {
   "display_name": "pytorch",
   "language": "python",
   "name": "python3"
  },
  "language_info": {
   "codemirror_mode": {
    "name": "ipython",
    "version": 3
   },
   "file_extension": ".py",
   "mimetype": "text/x-python",
   "name": "python",
   "nbconvert_exporter": "python",
   "pygments_lexer": "ipython3",
   "version": "3.11.10"
  }
 },
 "nbformat": 4,
 "nbformat_minor": 2
}
